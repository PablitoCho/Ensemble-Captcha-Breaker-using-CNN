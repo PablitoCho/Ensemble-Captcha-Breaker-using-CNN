{
 "cells": [
  {
   "cell_type": "code",
   "execution_count": 1,
   "metadata": {},
   "outputs": [
    {
     "name": "stdout",
     "output_type": "stream",
     "text": [
      "Once deleted, variables cannot be recovered. Proceed (y/[n])? y\n"
     ]
    },
    {
     "name": "stderr",
     "output_type": "stream",
     "text": [
      "C:\\Users\\wicho\\AppData\\Local\\Continuum\\anaconda3\\lib\\site-packages\\h5py\\__init__.py:36: FutureWarning: Conversion of the second argument of issubdtype from `float` to `np.floating` is deprecated. In future, it will be treated as `np.float64 == np.dtype(float).type`.\n",
      "  from ._conv import register_converters as _register_converters\n",
      "Using TensorFlow backend.\n"
     ]
    }
   ],
   "source": [
    "%reset\n",
    "import matplotlib.pyplot as plt\n",
    "from PIL import Image\n",
    "from keras.models import model_from_json\n",
    "import urllib\n",
    "import numpy as np\n",
    "import pandas as pd\n",
    "LETTERSTR = \"0123456789\" # domain for captcha letters, all 10 digits\""
   ]
  },
  {
   "cell_type": "code",
   "execution_count": 2,
   "metadata": {},
   "outputs": [],
   "source": [
    "# get new captcha image\n",
    "def get_captcha(img_name):\n",
    "    \"\"\"\n",
    "        download captcha image dynamically\n",
    "    \"\"\"\n",
    "    url = r'url where you can access the captcha image'\n",
    "    try:\n",
    "        urllib.request.urlretrieve(url, img_name)\n",
    "    except:\n",
    "        return 1\n",
    "    img = np.array(Image.open(img_name))\n",
    "    imgplot = plt.imshow(img)\n",
    "    plt.show()\n",
    "\n",
    "# turn generated jpg file into 4-dim'l numpy array to put it in model\n",
    "def preprocess_img(img_name, channel=3):\n",
    "    data = (np.array(Image.open(img_name))/255.0)[:,:,channel]\n",
    "    return data[np.newaxis, :, :, np.newaxis]"
   ]
  },
  {
   "cell_type": "code",
   "execution_count": 3,
   "metadata": {},
   "outputs": [],
   "source": [
    "WEIGHTS = ['digit1_weights[1].h5',\n",
    "           'digit2_weights[1].h5',\n",
    "           'digit3_weights[1].h5',\n",
    "           'digit4_weights[1].h5',\n",
    "           'digit5_weights[1].h5',\n",
    "           'digit6_weights[1].h5']\n",
    "STRUCTURE = 'captcha_breaker[1].json'"
   ]
  },
  {
   "cell_type": "markdown",
   "metadata": {},
   "source": [
    "Weight hdf5 files are 6 of them, because we have trained one model for one digit separately.\n",
    "\n",
    "Model structures may differ by each digit, but in this case all digits share same model structure, it works very well."
   ]
  },
  {
   "cell_type": "code",
   "execution_count": 4,
   "metadata": {},
   "outputs": [],
   "source": [
    "class captcha_predictor:\n",
    "    def __init__(self):\n",
    "        self.structure = None\n",
    "        self.weights = []\n",
    "        self.models = []\n",
    "        \n",
    "    def load_structure(self, str_json):\n",
    "        # needs 6 models each for each digit\n",
    "        for i in range(6):\n",
    "            with open(str_json, 'r') as f:\n",
    "                self.models.append(model_from_json(f.read()))\n",
    "            f.close()\n",
    "        print('Model structure is loaded.')\n",
    "        \n",
    "    def show_structure(self):\n",
    "        try:\n",
    "            print(self.models[0].summary())\n",
    "        except:\n",
    "            print('Model structure has not been loaded yet.')\n",
    "            \n",
    "    # turn generated jpg file into 4-dim'l numpy array to put it in model\n",
    "    def preprocess_img(self, img, channel=3):\n",
    "        data = (np.array(Image.open(img))/255.0)[:,:,channel]\n",
    "        return data[np.newaxis, :, :, np.newaxis]\n",
    "    \n",
    "    def load_weights(self, weights):\n",
    "        self.models[0].load_weights(weights[0])\n",
    "        self.models[1].load_weights(weights[1])\n",
    "        self.models[2].load_weights(weights[2])\n",
    "        self.models[3].load_weights(weights[3])\n",
    "        self.models[4].load_weights(weights[4])\n",
    "        self.models[5].load_weights(weights[5])\n",
    "        print('Pre-trained weights are loaded.')\n",
    "    \n",
    "    def single_predictor(self, digit):\n",
    "        return self.models[digit-1]\n",
    "    \n",
    "    def predict(self, data):\n",
    "        #data = self.preprocess_img(img=img, channel=3)\n",
    "        digit1 = np.argmax(self.single_predictor(digit=1).predict(data))\n",
    "        digit2 = np.argmax(self.single_predictor(digit=2).predict(data))\n",
    "        digit3 = np.argmax(self.single_predictor(digit=3).predict(data))\n",
    "        digit4 = np.argmax(self.single_predictor(digit=4).predict(data))\n",
    "        digit5 = np.argmax(self.single_predictor(digit=5).predict(data))\n",
    "        digit6 = np.argmax(self.single_predictor(digit=6).predict(data))\n",
    "        return str(digit1) + str(digit2) + str(digit3) + str(digit4) + str(digit5) + str(digit6)"
   ]
  },
  {
   "cell_type": "code",
   "execution_count": 5,
   "metadata": {},
   "outputs": [
    {
     "name": "stdout",
     "output_type": "stream",
     "text": [
      "Model structure is loaded.\n",
      "Pre-trained weights are loaded.\n"
     ]
    }
   ],
   "source": [
    "my_model = captcha_predictor()\n",
    "my_model.load_structure(STRUCTURE)\n",
    "#my_model.show_structure()\n",
    "my_model.load_weights(WEIGHTS)"
   ]
  },
  {
   "cell_type": "code",
   "execution_count": 6,
   "metadata": {},
   "outputs": [
    {
     "data": {
      "image/png": "[encoded data removed]",
      "text/plain": [
       "<Figure size 432x288 with 1 Axes>"
      ]
     },
     "metadata": {},
     "output_type": "display_data"
    },
    {
     "data": {
      "text/plain": [
       "'868797'"
      ]
     },
     "execution_count": 6,
     "metadata": {},
     "output_type": "execute_result"
    }
   ],
   "source": [
    "test_img = './test.jpg'\n",
    "get_captcha(test_img)\n",
    "data = preprocess_img(img_name=test_img, channel=3)\n",
    "my_model.predict(data)"
   ]
  },
  {
   "cell_type": "markdown",
   "metadata": {},
   "source": [
    "We can see this works pretty well. :-)"
   ]
  },
  {
   "cell_type": "code",
   "execution_count": null,
   "metadata": {},
   "outputs": [],
   "source": []
  }
 ],
 "metadata": {
  "kernelspec": {
   "display_name": "Python 3",
   "language": "python",
   "name": "python3"
  },
  "language_info": {
   "codemirror_mode": {
    "name": "ipython",
    "version": 3
   },
   "file_extension": ".py",
   "mimetype": "text/x-python",
   "name": "python",
   "nbconvert_exporter": "python",
   "pygments_lexer": "ipython3",
   "version": "3.6.5"
  }
 },
 "nbformat": 4,
 "nbformat_minor": 2
}
